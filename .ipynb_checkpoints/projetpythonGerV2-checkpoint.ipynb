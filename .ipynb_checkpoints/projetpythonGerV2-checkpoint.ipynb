{
 "cells": [
  {
   "cell_type": "code",
   "execution_count": 54,
   "metadata": {},
   "outputs": [],
   "source": [
    "import matplotlib.pyplot as plt\n",
    "import numpy as np\n",
    "import pandas as pd\n",
    "%matplotlib inline\n",
    "import warnings\n",
    "warnings.filterwarnings('ignore')\n",
    "from sklearn.metrics import accuracy_score\n",
    "from sklearn.metrics import roc_auc_score, roc_curve, auc\n",
    "\n",
    "from sklearn.metrics import confusion_matrix\n"
   ]
  },
  {
   "cell_type": "code",
   "execution_count": 24,
   "metadata": {},
   "outputs": [],
   "source": [
    "names = ['existingchecking', 'duration', 'credithistory', 'purpose', 'creditamount', \n",
    "         'savings', 'employmentsince', 'installmentrate', 'statussex', 'otherdebtors', \n",
    "         'residencesince', 'property', 'age', 'otherinstallmentplans', 'housing', \n",
    "         'existingcredits', 'job', 'peopleliable', 'telephone', 'foreignworker', 'classification']\n",
    "dataG= pd.read_csv('data_german.csv',names=names,sep=\" \",header=None)\n",
    "pd.options.display.max_columns = None\n",
    "#display(dataG)"
   ]
  },
  {
   "cell_type": "code",
   "execution_count": 25,
   "metadata": {},
   "outputs": [
    {
     "data": {
      "text/html": [
       "<div>\n",
       "<style scoped>\n",
       "    .dataframe tbody tr th:only-of-type {\n",
       "        vertical-align: middle;\n",
       "    }\n",
       "\n",
       "    .dataframe tbody tr th {\n",
       "        vertical-align: top;\n",
       "    }\n",
       "\n",
       "    .dataframe thead th {\n",
       "        text-align: right;\n",
       "    }\n",
       "</style>\n",
       "<table border=\"1\" class=\"dataframe\">\n",
       "  <thead>\n",
       "    <tr style=\"text-align: right;\">\n",
       "      <th></th>\n",
       "      <th>existingchecking</th>\n",
       "      <th>duration</th>\n",
       "      <th>credithistory</th>\n",
       "      <th>purpose</th>\n",
       "      <th>creditamount</th>\n",
       "      <th>savings</th>\n",
       "      <th>employmentsince</th>\n",
       "      <th>installmentrate</th>\n",
       "      <th>statussex</th>\n",
       "      <th>otherdebtors</th>\n",
       "      <th>residencesince</th>\n",
       "      <th>property</th>\n",
       "      <th>age</th>\n",
       "      <th>otherinstallmentplans</th>\n",
       "      <th>housing</th>\n",
       "      <th>existingcredits</th>\n",
       "      <th>job</th>\n",
       "      <th>peopleliable</th>\n",
       "      <th>telephone</th>\n",
       "      <th>foreignworker</th>\n",
       "      <th>classification</th>\n",
       "    </tr>\n",
       "  </thead>\n",
       "  <tbody>\n",
       "    <tr>\n",
       "      <th>0</th>\n",
       "      <td>A11</td>\n",
       "      <td>6</td>\n",
       "      <td>A34</td>\n",
       "      <td>A43</td>\n",
       "      <td>1169</td>\n",
       "      <td>A65</td>\n",
       "      <td>A75</td>\n",
       "      <td>4</td>\n",
       "      <td>A93</td>\n",
       "      <td>A101</td>\n",
       "      <td>4</td>\n",
       "      <td>A121</td>\n",
       "      <td>67</td>\n",
       "      <td>A143</td>\n",
       "      <td>A152</td>\n",
       "      <td>2</td>\n",
       "      <td>A173</td>\n",
       "      <td>1</td>\n",
       "      <td>A192</td>\n",
       "      <td>A201</td>\n",
       "      <td>1</td>\n",
       "    </tr>\n",
       "    <tr>\n",
       "      <th>1</th>\n",
       "      <td>A12</td>\n",
       "      <td>48</td>\n",
       "      <td>A32</td>\n",
       "      <td>A43</td>\n",
       "      <td>5951</td>\n",
       "      <td>A61</td>\n",
       "      <td>A73</td>\n",
       "      <td>2</td>\n",
       "      <td>A92</td>\n",
       "      <td>A101</td>\n",
       "      <td>2</td>\n",
       "      <td>A121</td>\n",
       "      <td>22</td>\n",
       "      <td>A143</td>\n",
       "      <td>A152</td>\n",
       "      <td>1</td>\n",
       "      <td>A173</td>\n",
       "      <td>1</td>\n",
       "      <td>A191</td>\n",
       "      <td>A201</td>\n",
       "      <td>2</td>\n",
       "    </tr>\n",
       "    <tr>\n",
       "      <th>2</th>\n",
       "      <td>A14</td>\n",
       "      <td>12</td>\n",
       "      <td>A34</td>\n",
       "      <td>A46</td>\n",
       "      <td>2096</td>\n",
       "      <td>A61</td>\n",
       "      <td>A74</td>\n",
       "      <td>2</td>\n",
       "      <td>A93</td>\n",
       "      <td>A101</td>\n",
       "      <td>3</td>\n",
       "      <td>A121</td>\n",
       "      <td>49</td>\n",
       "      <td>A143</td>\n",
       "      <td>A152</td>\n",
       "      <td>1</td>\n",
       "      <td>A172</td>\n",
       "      <td>2</td>\n",
       "      <td>A191</td>\n",
       "      <td>A201</td>\n",
       "      <td>1</td>\n",
       "    </tr>\n",
       "  </tbody>\n",
       "</table>\n",
       "</div>"
      ],
      "text/plain": [
       "  existingchecking  duration credithistory purpose  creditamount savings  \\\n",
       "0              A11         6           A34     A43          1169     A65   \n",
       "1              A12        48           A32     A43          5951     A61   \n",
       "2              A14        12           A34     A46          2096     A61   \n",
       "\n",
       "  employmentsince  installmentrate statussex otherdebtors  residencesince  \\\n",
       "0             A75                4       A93         A101               4   \n",
       "1             A73                2       A92         A101               2   \n",
       "2             A74                2       A93         A101               3   \n",
       "\n",
       "  property  age otherinstallmentplans housing  existingcredits   job  \\\n",
       "0     A121   67                  A143    A152                2  A173   \n",
       "1     A121   22                  A143    A152                1  A173   \n",
       "2     A121   49                  A143    A152                1  A172   \n",
       "\n",
       "   peopleliable telephone foreignworker  classification  \n",
       "0             1      A192          A201               1  \n",
       "1             1      A191          A201               2  \n",
       "2             2      A191          A201               1  "
      ]
     },
     "execution_count": 25,
     "metadata": {},
     "output_type": "execute_result"
    }
   ],
   "source": [
    "dataG.head(3)"
   ]
  },
  {
   "cell_type": "code",
   "execution_count": 94,
   "metadata": {},
   "outputs": [
    {
     "data": {
      "text/plain": [
       "array(['A173', 'A172', 'A174', 'A171'], dtype=object)"
      ]
     },
     "execution_count": 94,
     "metadata": {},
     "output_type": "execute_result"
    }
   ],
   "source": [
    "dataG.job.unique()"
   ]
  },
  {
   "cell_type": "code",
   "execution_count": 26,
   "metadata": {},
   "outputs": [
    {
     "data": {
      "text/html": [
       "<div>\n",
       "<style scoped>\n",
       "    .dataframe tbody tr th:only-of-type {\n",
       "        vertical-align: middle;\n",
       "    }\n",
       "\n",
       "    .dataframe tbody tr th {\n",
       "        vertical-align: top;\n",
       "    }\n",
       "\n",
       "    .dataframe thead th {\n",
       "        text-align: right;\n",
       "    }\n",
       "</style>\n",
       "<table border=\"1\" class=\"dataframe\">\n",
       "  <thead>\n",
       "    <tr style=\"text-align: right;\">\n",
       "      <th></th>\n",
       "      <th>duration</th>\n",
       "      <th>creditamount</th>\n",
       "      <th>installmentrate</th>\n",
       "      <th>residencesince</th>\n",
       "      <th>age</th>\n",
       "      <th>existingcredits</th>\n",
       "      <th>peopleliable</th>\n",
       "      <th>classification</th>\n",
       "    </tr>\n",
       "  </thead>\n",
       "  <tbody>\n",
       "    <tr>\n",
       "      <th>count</th>\n",
       "      <td>1000.000000</td>\n",
       "      <td>1000.000000</td>\n",
       "      <td>1000.000000</td>\n",
       "      <td>1000.000000</td>\n",
       "      <td>1000.000000</td>\n",
       "      <td>1000.000000</td>\n",
       "      <td>1000.000000</td>\n",
       "      <td>1000.000000</td>\n",
       "    </tr>\n",
       "    <tr>\n",
       "      <th>mean</th>\n",
       "      <td>20.903000</td>\n",
       "      <td>3271.258000</td>\n",
       "      <td>2.973000</td>\n",
       "      <td>2.845000</td>\n",
       "      <td>35.546000</td>\n",
       "      <td>1.407000</td>\n",
       "      <td>1.155000</td>\n",
       "      <td>1.300000</td>\n",
       "    </tr>\n",
       "    <tr>\n",
       "      <th>std</th>\n",
       "      <td>12.058814</td>\n",
       "      <td>2822.736876</td>\n",
       "      <td>1.118715</td>\n",
       "      <td>1.103718</td>\n",
       "      <td>11.375469</td>\n",
       "      <td>0.577654</td>\n",
       "      <td>0.362086</td>\n",
       "      <td>0.458487</td>\n",
       "    </tr>\n",
       "    <tr>\n",
       "      <th>min</th>\n",
       "      <td>4.000000</td>\n",
       "      <td>250.000000</td>\n",
       "      <td>1.000000</td>\n",
       "      <td>1.000000</td>\n",
       "      <td>19.000000</td>\n",
       "      <td>1.000000</td>\n",
       "      <td>1.000000</td>\n",
       "      <td>1.000000</td>\n",
       "    </tr>\n",
       "    <tr>\n",
       "      <th>25%</th>\n",
       "      <td>12.000000</td>\n",
       "      <td>1365.500000</td>\n",
       "      <td>2.000000</td>\n",
       "      <td>2.000000</td>\n",
       "      <td>27.000000</td>\n",
       "      <td>1.000000</td>\n",
       "      <td>1.000000</td>\n",
       "      <td>1.000000</td>\n",
       "    </tr>\n",
       "    <tr>\n",
       "      <th>50%</th>\n",
       "      <td>18.000000</td>\n",
       "      <td>2319.500000</td>\n",
       "      <td>3.000000</td>\n",
       "      <td>3.000000</td>\n",
       "      <td>33.000000</td>\n",
       "      <td>1.000000</td>\n",
       "      <td>1.000000</td>\n",
       "      <td>1.000000</td>\n",
       "    </tr>\n",
       "    <tr>\n",
       "      <th>75%</th>\n",
       "      <td>24.000000</td>\n",
       "      <td>3972.250000</td>\n",
       "      <td>4.000000</td>\n",
       "      <td>4.000000</td>\n",
       "      <td>42.000000</td>\n",
       "      <td>2.000000</td>\n",
       "      <td>1.000000</td>\n",
       "      <td>2.000000</td>\n",
       "    </tr>\n",
       "    <tr>\n",
       "      <th>max</th>\n",
       "      <td>72.000000</td>\n",
       "      <td>18424.000000</td>\n",
       "      <td>4.000000</td>\n",
       "      <td>4.000000</td>\n",
       "      <td>75.000000</td>\n",
       "      <td>4.000000</td>\n",
       "      <td>2.000000</td>\n",
       "      <td>2.000000</td>\n",
       "    </tr>\n",
       "  </tbody>\n",
       "</table>\n",
       "</div>"
      ],
      "text/plain": [
       "          duration  creditamount  installmentrate  residencesince  \\\n",
       "count  1000.000000   1000.000000      1000.000000     1000.000000   \n",
       "mean     20.903000   3271.258000         2.973000        2.845000   \n",
       "std      12.058814   2822.736876         1.118715        1.103718   \n",
       "min       4.000000    250.000000         1.000000        1.000000   \n",
       "25%      12.000000   1365.500000         2.000000        2.000000   \n",
       "50%      18.000000   2319.500000         3.000000        3.000000   \n",
       "75%      24.000000   3972.250000         4.000000        4.000000   \n",
       "max      72.000000  18424.000000         4.000000        4.000000   \n",
       "\n",
       "               age  existingcredits  peopleliable  classification  \n",
       "count  1000.000000      1000.000000   1000.000000     1000.000000  \n",
       "mean     35.546000         1.407000      1.155000        1.300000  \n",
       "std      11.375469         0.577654      0.362086        0.458487  \n",
       "min      19.000000         1.000000      1.000000        1.000000  \n",
       "25%      27.000000         1.000000      1.000000        1.000000  \n",
       "50%      33.000000         1.000000      1.000000        1.000000  \n",
       "75%      42.000000         2.000000      1.000000        2.000000  \n",
       "max      75.000000         4.000000      2.000000        2.000000  "
      ]
     },
     "execution_count": 26,
     "metadata": {},
     "output_type": "execute_result"
    }
   ],
   "source": [
    "dataG.describe()"
   ]
  },
  {
   "cell_type": "code",
   "execution_count": 27,
   "metadata": {},
   "outputs": [
    {
     "data": {
      "text/plain": [
       "<matplotlib.colorbar.Colorbar at 0x7f45174d3f50>"
      ]
     },
     "execution_count": 27,
     "metadata": {},
     "output_type": "execute_result"
    },
    {
     "data": {
      "image/png": "[encoded data removed]",
      "text/plain": [
       "<Figure size 432x288 with 2 Axes>"
      ]
     },
     "metadata": {
      "needs_background": "light"
     },
     "output_type": "display_data"
    }
   ],
   "source": [
    "plt.imshow(dataG.corr())\n",
    "plt.colorbar()"
   ]
  },
  {
   "cell_type": "code",
   "execution_count": 28,
   "metadata": {},
   "outputs": [],
   "source": [
    "# Standardization\n",
    "from sklearn.preprocessing import StandardScaler\n",
    "ss1=StandardScaler() \n",
    "numvars = ['creditamount', 'duration', 'installmentrate', 'residencesince', 'age', \n",
    "           'existingcredits', 'peopleliable']\n",
    "DataQuanti = dataG[numvars]"
   ]
  },
  {
   "cell_type": "code",
   "execution_count": 29,
   "metadata": {},
   "outputs": [],
   "source": [
    "from collections import defaultdict\n",
    "from sklearn.preprocessing import LabelEncoder\n",
    "qualiCo = ['existingchecking', 'credithistory', 'purpose',\n",
    "        'savings', 'employmentsince',\n",
    "       'statussex', 'otherdebtors', 'property', \n",
    "       'otherinstallmentplans', 'housing',  'job',\n",
    "       'telephone', 'foreignworker']"
   ]
  },
  {
   "cell_type": "code",
   "execution_count": 30,
   "metadata": {},
   "outputs": [],
   "source": [
    "d = defaultdict(LabelEncoder)\n",
    "NewData_German = dataG[qualiCo].apply(lambda x: d[x.name].fit_transform(x))"
   ]
  },
  {
   "cell_type": "code",
   "execution_count": 36,
   "metadata": {},
   "outputs": [],
   "source": [
    "tmp= pd.concat([DataQuanti, NewData_German], axis = 1)\n",
    "data_scale = pd.DataFrame(ss1.fit_transform(tmp),columns=tmp.columns)"
   ]
  },
  {
   "cell_type": "code",
   "execution_count": 38,
   "metadata": {},
   "outputs": [
    {
     "data": {
      "text/html": [
       "<div>\n",
       "<style scoped>\n",
       "    .dataframe tbody tr th:only-of-type {\n",
       "        vertical-align: middle;\n",
       "    }\n",
       "\n",
       "    .dataframe tbody tr th {\n",
       "        vertical-align: top;\n",
       "    }\n",
       "\n",
       "    .dataframe thead th {\n",
       "        text-align: right;\n",
       "    }\n",
       "</style>\n",
       "<table border=\"1\" class=\"dataframe\">\n",
       "  <thead>\n",
       "    <tr style=\"text-align: right;\">\n",
       "      <th></th>\n",
       "      <th>creditamount</th>\n",
       "      <th>duration</th>\n",
       "      <th>installmentrate</th>\n",
       "      <th>residencesince</th>\n",
       "      <th>age</th>\n",
       "      <th>existingcredits</th>\n",
       "      <th>peopleliable</th>\n",
       "      <th>existingchecking</th>\n",
       "      <th>credithistory</th>\n",
       "      <th>purpose</th>\n",
       "      <th>savings</th>\n",
       "      <th>employmentsince</th>\n",
       "      <th>statussex</th>\n",
       "      <th>otherdebtors</th>\n",
       "      <th>property</th>\n",
       "      <th>otherinstallmentplans</th>\n",
       "      <th>housing</th>\n",
       "      <th>job</th>\n",
       "      <th>telephone</th>\n",
       "      <th>foreignworker</th>\n",
       "      <th>classification</th>\n",
       "    </tr>\n",
       "  </thead>\n",
       "  <tbody>\n",
       "    <tr>\n",
       "      <th>0</th>\n",
       "      <td>-0.745131</td>\n",
       "      <td>-1.236478</td>\n",
       "      <td>0.918477</td>\n",
       "      <td>1.046987</td>\n",
       "      <td>2.766456</td>\n",
       "      <td>1.027079</td>\n",
       "      <td>-0.42829</td>\n",
       "      <td>-1.254566</td>\n",
       "      <td>1.344014</td>\n",
       "      <td>0.264068</td>\n",
       "      <td>1.833169</td>\n",
       "      <td>1.338078</td>\n",
       "      <td>0.449326</td>\n",
       "      <td>-0.303686</td>\n",
       "      <td>-1.293723</td>\n",
       "      <td>0.460831</td>\n",
       "      <td>0.13371</td>\n",
       "      <td>0.146949</td>\n",
       "      <td>1.214598</td>\n",
       "      <td>-0.196014</td>\n",
       "      <td>1</td>\n",
       "    </tr>\n",
       "  </tbody>\n",
       "</table>\n",
       "</div>"
      ],
      "text/plain": [
       "   creditamount  duration  installmentrate  residencesince       age  \\\n",
       "0     -0.745131 -1.236478         0.918477        1.046987  2.766456   \n",
       "\n",
       "   existingcredits  peopleliable  existingchecking  credithistory   purpose  \\\n",
       "0         1.027079      -0.42829         -1.254566       1.344014  0.264068   \n",
       "\n",
       "    savings  employmentsince  statussex  otherdebtors  property  \\\n",
       "0  1.833169         1.338078   0.449326     -0.303686 -1.293723   \n",
       "\n",
       "   otherinstallmentplans  housing       job  telephone  foreignworker  \\\n",
       "0               0.460831  0.13371  0.146949   1.214598      -0.196014   \n",
       "\n",
       "   classification  \n",
       "0               1  "
      ]
     },
     "execution_count": 38,
     "metadata": {},
     "output_type": "execute_result"
    }
   ],
   "source": [
    "data_clean = pd.concat([data_scale, dataG.classification], axis = 1)\n",
    "#Target , remplacer [1,2] par [1,0]\n",
    "\n",
    "data_clean.shape\n",
    "data_clean.head(1)"
   ]
  },
  {
   "cell_type": "code",
   "execution_count": 76,
   "metadata": {},
   "outputs": [
    {
     "data": {
      "text/plain": [
       "Index(['creditamount', 'duration', 'installmentrate', 'residencesince', 'age',\n",
       "       'existingcredits', 'peopleliable', 'existingchecking', 'credithistory',\n",
       "       'purpose', 'savings', 'employmentsince', 'statussex', 'otherdebtors',\n",
       "       'property', 'otherinstallmentplans', 'housing', 'job', 'telephone',\n",
       "       'foreignworker', 'classification'],\n",
       "      dtype='object')"
      ]
     },
     "execution_count": 76,
     "metadata": {},
     "output_type": "execute_result"
    }
   ],
   "source": [
    "data_clean.columns"
   ]
  },
  {
   "cell_type": "code",
   "execution_count": 39,
   "metadata": {},
   "outputs": [],
   "source": [
    "data_clean.classification.replace([1,2],[0,1], inplace=True)"
   ]
  },
  {
   "cell_type": "code",
   "execution_count": 40,
   "metadata": {},
   "outputs": [
    {
     "data": {
      "text/html": [
       "<div>\n",
       "<style scoped>\n",
       "    .dataframe tbody tr th:only-of-type {\n",
       "        vertical-align: middle;\n",
       "    }\n",
       "\n",
       "    .dataframe tbody tr th {\n",
       "        vertical-align: top;\n",
       "    }\n",
       "\n",
       "    .dataframe thead th {\n",
       "        text-align: right;\n",
       "    }\n",
       "</style>\n",
       "<table border=\"1\" class=\"dataframe\">\n",
       "  <thead>\n",
       "    <tr style=\"text-align: right;\">\n",
       "      <th></th>\n",
       "      <th>creditamount</th>\n",
       "      <th>duration</th>\n",
       "      <th>installmentrate</th>\n",
       "      <th>residencesince</th>\n",
       "      <th>age</th>\n",
       "      <th>existingcredits</th>\n",
       "      <th>peopleliable</th>\n",
       "      <th>existingchecking</th>\n",
       "      <th>credithistory</th>\n",
       "      <th>purpose</th>\n",
       "      <th>savings</th>\n",
       "      <th>employmentsince</th>\n",
       "      <th>statussex</th>\n",
       "      <th>otherdebtors</th>\n",
       "      <th>property</th>\n",
       "      <th>otherinstallmentplans</th>\n",
       "      <th>housing</th>\n",
       "      <th>job</th>\n",
       "      <th>telephone</th>\n",
       "      <th>foreignworker</th>\n",
       "      <th>classification</th>\n",
       "    </tr>\n",
       "  </thead>\n",
       "  <tbody>\n",
       "    <tr>\n",
       "      <th>0</th>\n",
       "      <td>-0.745131</td>\n",
       "      <td>-1.236478</td>\n",
       "      <td>0.918477</td>\n",
       "      <td>1.046987</td>\n",
       "      <td>2.766456</td>\n",
       "      <td>1.027079</td>\n",
       "      <td>-0.428290</td>\n",
       "      <td>-1.254566</td>\n",
       "      <td>1.344014</td>\n",
       "      <td>0.264068</td>\n",
       "      <td>1.833169</td>\n",
       "      <td>1.338078</td>\n",
       "      <td>0.449326</td>\n",
       "      <td>-0.303686</td>\n",
       "      <td>-1.293723</td>\n",
       "      <td>0.460831</td>\n",
       "      <td>0.133710</td>\n",
       "      <td>0.146949</td>\n",
       "      <td>1.214598</td>\n",
       "      <td>-0.196014</td>\n",
       "      <td>0</td>\n",
       "    </tr>\n",
       "    <tr>\n",
       "      <th>1</th>\n",
       "      <td>0.949817</td>\n",
       "      <td>2.248194</td>\n",
       "      <td>-0.870183</td>\n",
       "      <td>-0.765977</td>\n",
       "      <td>-1.191404</td>\n",
       "      <td>-0.704926</td>\n",
       "      <td>-0.428290</td>\n",
       "      <td>-0.459026</td>\n",
       "      <td>-0.503428</td>\n",
       "      <td>0.264068</td>\n",
       "      <td>-0.699707</td>\n",
       "      <td>-0.317959</td>\n",
       "      <td>-0.963650</td>\n",
       "      <td>-0.303686</td>\n",
       "      <td>-1.293723</td>\n",
       "      <td>0.460831</td>\n",
       "      <td>0.133710</td>\n",
       "      <td>0.146949</td>\n",
       "      <td>-0.823318</td>\n",
       "      <td>-0.196014</td>\n",
       "      <td>1</td>\n",
       "    </tr>\n",
       "    <tr>\n",
       "      <th>2</th>\n",
       "      <td>-0.416562</td>\n",
       "      <td>-0.738668</td>\n",
       "      <td>-0.870183</td>\n",
       "      <td>0.140505</td>\n",
       "      <td>1.183312</td>\n",
       "      <td>-0.704926</td>\n",
       "      <td>2.334869</td>\n",
       "      <td>1.132053</td>\n",
       "      <td>1.344014</td>\n",
       "      <td>1.359785</td>\n",
       "      <td>-0.699707</td>\n",
       "      <td>0.510060</td>\n",
       "      <td>0.449326</td>\n",
       "      <td>-0.303686</td>\n",
       "      <td>-1.293723</td>\n",
       "      <td>0.460831</td>\n",
       "      <td>0.133710</td>\n",
       "      <td>-1.383771</td>\n",
       "      <td>-0.823318</td>\n",
       "      <td>-0.196014</td>\n",
       "      <td>0</td>\n",
       "    </tr>\n",
       "    <tr>\n",
       "      <th>3</th>\n",
       "      <td>1.634247</td>\n",
       "      <td>1.750384</td>\n",
       "      <td>-0.870183</td>\n",
       "      <td>1.046987</td>\n",
       "      <td>0.831502</td>\n",
       "      <td>-0.704926</td>\n",
       "      <td>2.334869</td>\n",
       "      <td>-1.254566</td>\n",
       "      <td>-0.503428</td>\n",
       "      <td>-0.101171</td>\n",
       "      <td>-0.699707</td>\n",
       "      <td>0.510060</td>\n",
       "      <td>0.449326</td>\n",
       "      <td>3.885083</td>\n",
       "      <td>-0.341055</td>\n",
       "      <td>0.460831</td>\n",
       "      <td>2.016956</td>\n",
       "      <td>0.146949</td>\n",
       "      <td>-0.823318</td>\n",
       "      <td>-0.196014</td>\n",
       "      <td>0</td>\n",
       "    </tr>\n",
       "    <tr>\n",
       "      <th>4</th>\n",
       "      <td>0.566664</td>\n",
       "      <td>0.256953</td>\n",
       "      <td>0.024147</td>\n",
       "      <td>1.046987</td>\n",
       "      <td>1.535122</td>\n",
       "      <td>1.027079</td>\n",
       "      <td>2.334869</td>\n",
       "      <td>-1.254566</td>\n",
       "      <td>0.420293</td>\n",
       "      <td>-1.196889</td>\n",
       "      <td>-0.699707</td>\n",
       "      <td>-0.317959</td>\n",
       "      <td>0.449326</td>\n",
       "      <td>-0.303686</td>\n",
       "      <td>1.564281</td>\n",
       "      <td>0.460831</td>\n",
       "      <td>2.016956</td>\n",
       "      <td>0.146949</td>\n",
       "      <td>-0.823318</td>\n",
       "      <td>-0.196014</td>\n",
       "      <td>1</td>\n",
       "    </tr>\n",
       "  </tbody>\n",
       "</table>\n",
       "</div>"
      ],
      "text/plain": [
       "   creditamount  duration  installmentrate  residencesince       age  \\\n",
       "0     -0.745131 -1.236478         0.918477        1.046987  2.766456   \n",
       "1      0.949817  2.248194        -0.870183       -0.765977 -1.191404   \n",
       "2     -0.416562 -0.738668        -0.870183        0.140505  1.183312   \n",
       "3      1.634247  1.750384        -0.870183        1.046987  0.831502   \n",
       "4      0.566664  0.256953         0.024147        1.046987  1.535122   \n",
       "\n",
       "   existingcredits  peopleliable  existingchecking  credithistory   purpose  \\\n",
       "0         1.027079     -0.428290         -1.254566       1.344014  0.264068   \n",
       "1        -0.704926     -0.428290         -0.459026      -0.503428  0.264068   \n",
       "2        -0.704926      2.334869          1.132053       1.344014  1.359785   \n",
       "3        -0.704926      2.334869         -1.254566      -0.503428 -0.101171   \n",
       "4         1.027079      2.334869         -1.254566       0.420293 -1.196889   \n",
       "\n",
       "    savings  employmentsince  statussex  otherdebtors  property  \\\n",
       "0  1.833169         1.338078   0.449326     -0.303686 -1.293723   \n",
       "1 -0.699707        -0.317959  -0.963650     -0.303686 -1.293723   \n",
       "2 -0.699707         0.510060   0.449326     -0.303686 -1.293723   \n",
       "3 -0.699707         0.510060   0.449326      3.885083 -0.341055   \n",
       "4 -0.699707        -0.317959   0.449326     -0.303686  1.564281   \n",
       "\n",
       "   otherinstallmentplans   housing       job  telephone  foreignworker  \\\n",
       "0               0.460831  0.133710  0.146949   1.214598      -0.196014   \n",
       "1               0.460831  0.133710  0.146949  -0.823318      -0.196014   \n",
       "2               0.460831  0.133710 -1.383771  -0.823318      -0.196014   \n",
       "3               0.460831  2.016956  0.146949  -0.823318      -0.196014   \n",
       "4               0.460831  2.016956  0.146949  -0.823318      -0.196014   \n",
       "\n",
       "   classification  \n",
       "0               0  \n",
       "1               1  \n",
       "2               0  \n",
       "3               0  \n",
       "4               1  "
      ]
     },
     "execution_count": 40,
     "metadata": {},
     "output_type": "execute_result"
    }
   ],
   "source": [
    "data_clean.head()"
   ]
  },
  {
   "cell_type": "code",
   "execution_count": 41,
   "metadata": {},
   "outputs": [
    {
     "data": {
      "image/png": "[encoded data removed]",
      "text/plain": [
       "<Figure size 432x288 with 1 Axes>"
      ]
     },
     "metadata": {
      "needs_background": "light"
     },
     "output_type": "display_data"
    }
   ],
   "source": [
    "import seaborn as sns\n",
    "sns.countplot(data_clean['classification'],label=\"Count\")\n",
    "plt.show()"
   ]
  },
  {
   "cell_type": "code",
   "execution_count": null,
   "metadata": {},
   "outputs": [],
   "source": []
  },
  {
   "cell_type": "code",
   "execution_count": 42,
   "metadata": {},
   "outputs": [],
   "source": [
    "from sklearn.model_selection import train_test_split\n",
    "X_clean = data_clean.iloc[:,:20]\n",
    "y_clean= data_clean.classification\n",
    "X_train, X_test, y_train, y_test= train_test_split(X_clean,y_clean,test_size=0.3, random_state=0)"
   ]
  },
  {
   "cell_type": "markdown",
   "metadata": {},
   "source": [
    "<h3>Test XGBoost Model</h3>"
   ]
  },
  {
   "cell_type": "code",
   "execution_count": 47,
   "metadata": {},
   "outputs": [
    {
     "name": "stdout",
     "output_type": "stream",
     "text": [
      "0.7311997391871332\n",
      "0.7924364268637253\n",
      "[[196  18]\n",
      " [ 39  47]]\n"
     ]
    }
   ],
   "source": [
    "import xgboost as xgb\n",
    "xg_cl = xgb.XGBClassifier(objective='binary:logistic') \n",
    "xgb_model = xg_cl.fit(X_train,y_train)\n",
    "y_pred_xgb = xgb_model.predict(X_test)\n",
    "#**********************************Avec predict proba \n",
    "best_iteration = xgb_model.get_booster().best_ntree_limit\n",
    "y_pred_xgbpro = xgb_model.predict_proba(X_test,ntree_limit=best_iteration)[:,1]\n",
    "print(roc_auc_score(y_test,y_pred_xgb))\n",
    "print(roc_auc_score(y_test,y_pred_xgbpro))\n",
    "print(confusion_matrix(y_test, y_pred_xgb))"
   ]
  },
  {
   "cell_type": "code",
   "execution_count": 50,
   "metadata": {},
   "outputs": [
    {
     "data": {
      "text/plain": [
       "(array([0.        , 0.08411215, 1.        ]),\n",
       " array([0.        , 0.54651163, 1.        ]),\n",
       " array([2, 1, 0]))"
      ]
     },
     "execution_count": 50,
     "metadata": {},
     "output_type": "execute_result"
    }
   ],
   "source": [
    "roc_curve(y_test,y_pred_xgb) "
   ]
  },
  {
   "cell_type": "markdown",
   "metadata": {},
   "source": [
    "<h3>Naive Bayes</h3>"
   ]
  },
  {
   "cell_type": "code",
   "execution_count": 51,
   "metadata": {},
   "outputs": [
    {
     "name": "stdout",
     "output_type": "stream",
     "text": [
      "0.725005433601391\n",
      "[[161  53]\n",
      " [ 26  60]]\n"
     ]
    }
   ],
   "source": [
    "from sklearn.naive_bayes import GaussianNB\n",
    "model = GaussianNB()\n",
    "xNaiveBayes = model.fit(X_train,y_train)\n",
    "y_pred_GaussianNB = xNaiveBayes.predict(X_test)\n",
    "print(roc_auc_score(y_test,y_pred_GaussianNB))\n",
    "print(confusion_matrix(y_test, y_pred_GaussianNB))"
   ]
  },
  {
   "cell_type": "markdown",
   "metadata": {},
   "source": [
    "<h3>LogisticRegression </h3>\n"
   ]
  },
  {
   "cell_type": "code",
   "execution_count": 52,
   "metadata": {},
   "outputs": [
    {
     "name": "stdout",
     "output_type": "stream",
     "text": [
      "0.7008259074114324\n",
      "[[183  31]\n",
      " [ 39  47]]\n"
     ]
    }
   ],
   "source": [
    "from sklearn.linear_model import LogisticRegression\n",
    "clf = LogisticRegression(random_state=0).fit(X_train, y_train)\n",
    "y_predLog = clf.predict(X_test)\n",
    "print(roc_auc_score(y_test,y_predLog))\n",
    "print(confusion_matrix(y_test, y_predLog))"
   ]
  },
  {
   "cell_type": "code",
   "execution_count": 55,
   "metadata": {},
   "outputs": [],
   "source": []
  },
  {
   "cell_type": "code",
   "execution_count": 56,
   "metadata": {},
   "outputs": [
    {
     "data": {
      "image/png": "[encoded data removed]",
      "text/plain": [
       "<Figure size 432x288 with 1 Axes>"
      ]
     },
     "metadata": {
      "needs_background": "light"
     },
     "output_type": "display_data"
    }
   ],
   "source": []
  },
  {
   "cell_type": "code",
   "execution_count": null,
   "metadata": {},
   "outputs": [],
   "source": []
  },
  {
   "cell_type": "markdown",
   "metadata": {},
   "source": [
    "## AdaBoostClassifier"
   ]
  },
  {
   "cell_type": "code",
   "execution_count": 58,
   "metadata": {},
   "outputs": [
    {
     "name": "stdout",
     "output_type": "stream",
     "text": [
      "AdaBoostClassifier(algorithm='SAMME.R', base_estimator=None, learning_rate=1.0,\n",
      "                   n_estimators=50, random_state=None) \n",
      "\n",
      "0.7125081504020866\n"
     ]
    }
   ],
   "source": [
    "from sklearn.ensemble import AdaBoostClassifier\n",
    "\n",
    "# fit, train and cross validate GradientBoostingClassifier with training and test data \n",
    "\n",
    "abclf = AdaBoostClassifier().fit(X_train, y_train)\n",
    "print(abclf,'\\n')\n",
    "    \n",
    " # Predict target variables y for test data\n",
    "y_pred = abclf.predict(X_test)\n",
    "\n",
    "    # Get Cross Validation and Confusion matrix\n",
    "    #get_eval(abclf, X_train, y_train,y_test,y_pred)\n",
    "print(roc_auc_score(y_test,y_pred))\n",
    "    \n",
    " \n"
   ]
  },
  {
   "cell_type": "code",
   "execution_count": 59,
   "metadata": {},
   "outputs": [
    {
     "data": {
      "image/png": "[encoded data removed]",
      "text/plain": [
       "<Figure size 432x288 with 1 Axes>"
      ]
     },
     "metadata": {
      "needs_background": "light"
     },
     "output_type": "display_data"
    }
   ],
   "source": [
    "plt.figure() \n",
    "plt.plot(fpr1, tpr1, color='navy', lw=2, label='XGBoost  (area = %0.2f)'% roc_auc1)\n",
    "plt.plot(fpr2, tpr2, color='green', lw=2, label='Naive Bayes (area = %0.2f)'% roc_auc2)\n",
    "plt.plot(fpr4, tpr4, color='pink', lw=2, label='LogisticRegression (area = %0.2f)'% roc_auc4)\n",
    "plt.plot([0, 1], [0, 1], color='red', lw=2, linestyle='--') \n",
    "plt.xlim([0.0, 1.0]) \n",
    "plt.ylim([0.0, 1.05]) \n",
    "plt.xlabel('False Positive Rate') \n",
    "plt.ylabel('True Positive Rate') \n",
    "plt.title('Classifiers ROC curves') \n",
    "plt.legend(loc = \"lower right\")\n",
    "plt.show()"
   ]
  },
  {
   "cell_type": "code",
   "execution_count": 61,
   "metadata": {},
   "outputs": [],
   "source": [
    "import pickle "
   ]
  },
  {
   "cell_type": "code",
   "execution_count": 72,
   "metadata": {},
   "outputs": [],
   "source": []
  },
  {
   "cell_type": "code",
   "execution_count": 111,
   "metadata": {},
   "outputs": [],
   "source": [
    "tmp_arr={}\n",
    "col = ['existingchecking', 'credithistory', 'purpose','savings', 'employmentsince','statussex', 'otherdebtors', 'property', 'otherinstallmentplans', 'housing',  'job','telephone', 'foreignworker']\n",
    "for element in col:\n",
    "    tmp ={}\n",
    "    for e in range(len(dataG[element].unique())):\n",
    "        tmp[dataG[element].unique()[e]]=data_clean[element].unique()[e]\n",
    "    tmp_arr[element]=tmp    "
   ]
  },
  {
   "cell_type": "code",
   "execution_count": 113,
   "metadata": {},
   "outputs": [],
   "source": [
    "arr = [[xgb_model, roc_auc_score(y_test, y_pred_xgb), accuracy_score(y_test, y_pred_xgb),roc_curve(y_test, y_pred_xgb)], [xNaiveBayes, roc_auc_score(y_test, y_pred_GaussianNB), accuracy_score(y_test, y_pred_GaussianNB),roc_curve(y_test, y_pred_GaussianNB)],[clf, roc_auc_score(y_test, y_predLog), accuracy_score(y_test, y_predLog),roc_curve(y_test, y_predLog)],[abclf, roc_auc_score(y_test, y_pred), accuracy_score(y_test, y_pred),roc_curve(y_test, y_pred)],ss1,tmp_arr]"
   ]
  },
  {
   "cell_type": "code",
   "execution_count": 114,
   "metadata": {},
   "outputs": [],
   "source": [
    "with open('german.pckl','wb') as file:\n",
    "    pickle.dump(arr,file)"
   ]
  },
  {
   "cell_type": "code",
   "execution_count": null,
   "metadata": {},
   "outputs": [],
   "source": []
  }
 ],
 "metadata": {
  "kernelspec": {
   "display_name": "Python 3",
   "language": "python",
   "name": "python3"
  },
  "language_info": {
   "codemirror_mode": {
    "name": "ipython",
    "version": 3
   },
   "file_extension": ".py",
   "mimetype": "text/x-python",
   "name": "python",
   "nbconvert_exporter": "python",
   "pygments_lexer": "ipython3",
   "version": "3.7.5"
  }
 },
 "nbformat": 4,
 "nbformat_minor": 4
}
